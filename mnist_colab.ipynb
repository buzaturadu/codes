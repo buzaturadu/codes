{
  "nbformat": 4,
  "nbformat_minor": 0,
  "metadata": {
    "colab": {
      "name": "Copy of Untitled0.ipynb",
      "provenance": [],
      "include_colab_link": true
    },
    "kernelspec": {
      "name": "python3",
      "display_name": "Python 3"
    }
  },
  "cells": [
    {
      "cell_type": "markdown",
      "metadata": {
        "id": "view-in-github",
        "colab_type": "text"
      },
      "source": [
        "<a href=\"https://colab.research.google.com/github/buzaturadu/codes/blob/master/mnist_colab.ipynb\" target=\"_parent\"><img src=\"https://colab.research.google.com/assets/colab-badge.svg\" alt=\"Open In Colab\"/></a>"
      ]
    },
    {
      "cell_type": "code",
      "metadata": {
        "id": "m5Ks4V5K_DhD",
        "colab_type": "code",
        "outputId": "ae4951ab-af9c-4703-a978-5ac279c6a544",
        "colab": {
          "base_uri": "https://localhost:8080/",
          "height": 672
        }
      },
      "source": [
        "\n",
        "from __future__ import print_function\n",
        "\n",
        "import numpy as np\n",
        "import keras\n",
        "from keras.datasets import mnist\n",
        "from keras.models import Sequential\n",
        "from keras.layers import Dense, Dropout\n",
        "from keras.optimizers import RMSprop\n",
        "\n",
        "batch_size = 128\n",
        "num_classes = 10\n",
        "epochs = 20\n",
        "\n",
        "# the data, split between train and test sets\n",
        "(x_train, y_train), (x_test, y_test) = mnist.load_data()\n",
        "\n",
        "x_train = x_train.reshape(60000, 784)\n",
        "x_test = x_test.reshape(10000, 784)\n",
        "x_train = x_train.astype('float32')\n",
        "x_test = x_test.astype('float32')\n",
        "x_train /= 255\n",
        "x_test /= 255\n",
        "print(x_train.shape[0], 'train samples')\n",
        "print(x_test.shape[0], 'test samples')\n",
        "\n",
        "# convert class vectors to binary class matrices\n",
        "y_train = keras.utils.to_categorical(y_train, num_classes)\n",
        "y_test = keras.utils.to_categorical(y_test, num_classes)\n",
        "\n",
        "model = Sequential()\n",
        "model.add(Dense(512, activation='relu', input_shape=(784,)))\n",
        "model.add(Dropout(0.2))\n",
        "model.add(Dense(512, activation='relu'))\n",
        "model.add(Dropout(0.2))\n",
        "model.add(Dense(num_classes, activation='softmax'))\n",
        "\n",
        "model.summary()\n",
        "\n",
        "model.compile(loss='categorical_crossentropy',\n",
        "              optimizer=RMSprop(),\n",
        "              metrics=['accuracy'])\n",
        "\n",
        "history = model.fit(x_train, y_train,\n",
        "                    batch_size=batch_size,\n",
        "                    epochs=epochs,\n",
        "                    verbose=1,\n",
        "                    validation_data=(x_test, y_test))\n",
        "score = model.evaluate(x_test, y_test, verbose=0)\n",
        "print('Test loss:', score[0])\n",
        "print('Test accuracy:', score[1])"
      ],
      "execution_count": 0,
      "outputs": [
        {
          "output_type": "stream",
          "text": [
            "60000 train samples\n",
            "10000 test samples\n",
            "Model: \"sequential_4\"\n",
            "_________________________________________________________________\n",
            "Layer (type)                 Output Shape              Param #   \n",
            "=================================================================\n",
            "dense_10 (Dense)             (None, 512)               401920    \n",
            "_________________________________________________________________\n",
            "dropout_7 (Dropout)          (None, 512)               0         \n",
            "_________________________________________________________________\n",
            "dense_11 (Dense)             (None, 512)               262656    \n",
            "_________________________________________________________________\n",
            "dropout_8 (Dropout)          (None, 512)               0         \n",
            "_________________________________________________________________\n",
            "dense_12 (Dense)             (None, 10)                5130      \n",
            "=================================================================\n",
            "Total params: 669,706\n",
            "Trainable params: 669,706\n",
            "Non-trainable params: 0\n",
            "_________________________________________________________________\n",
            "Train on 60000 samples, validate on 10000 samples\n",
            "Epoch 1/20\n",
            "60000/60000 [==============================] - 9s 151us/step - loss: 0.2488 - acc: 0.9226 - val_loss: 0.1063 - val_acc: 0.9673\n",
            "Epoch 2/20\n",
            "60000/60000 [==============================] - 9s 146us/step - loss: 0.1040 - acc: 0.9685 - val_loss: 0.1070 - val_acc: 0.9681\n",
            "Epoch 3/20\n",
            "60000/60000 [==============================] - 9s 145us/step - loss: 0.0759 - acc: 0.9772 - val_loss: 0.0830 - val_acc: 0.9765\n",
            "Epoch 4/20\n",
            "60000/60000 [==============================] - 9s 146us/step - loss: 0.0619 - acc: 0.9813 - val_loss: 0.0727 - val_acc: 0.9795\n",
            "Epoch 5/20\n",
            "60000/60000 [==============================] - 9s 146us/step - loss: 0.0500 - acc: 0.9844 - val_loss: 0.0778 - val_acc: 0.9802\n",
            "Epoch 6/20\n",
            "60000/60000 [==============================] - 9s 145us/step - loss: 0.0447 - acc: 0.9868 - val_loss: 0.0820 - val_acc: 0.9798\n",
            "Epoch 7/20\n",
            "60000/60000 [==============================] - 9s 145us/step - loss: 0.0394 - acc: 0.9884 - val_loss: 0.0802 - val_acc: 0.9804\n",
            "Epoch 8/20\n",
            "60000/60000 [==============================] - 9s 144us/step - loss: 0.0348 - acc: 0.9892 - val_loss: 0.0743 - val_acc: 0.9838\n",
            "Epoch 9/20\n",
            "23936/60000 [==========>...................] - ETA: 5s - loss: 0.0271 - acc: 0.9917"
          ],
          "name": "stdout"
        }
      ]
    },
    {
      "cell_type": "code",
      "metadata": {
        "id": "b4L1Z1m6E9vO",
        "colab_type": "code",
        "colab": {}
      },
      "source": [
        "predicted_classes = model.predict_classes(x_test)\n",
        "import pandas as pd\n",
        "submissions=pd.DataFrame({\"ImageId\": list(range(1,len(predicted_classes)+1)), \"Label\": predicted_classes})\n",
        "submissions.to_csv(\"submission.csv\",index = False, header = True)\n",
        "from google.colab import files\n",
        "files.download('submission.csv')"
      ],
      "execution_count": 0,
      "outputs": []
    }
  ]
}